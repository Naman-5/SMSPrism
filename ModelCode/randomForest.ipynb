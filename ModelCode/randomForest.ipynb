{
 "cells": [
  {
   "cell_type": "code",
   "execution_count": 73,
   "metadata": {},
   "outputs": [],
   "source": [
    "import pandas as pd\n",
    "import re\n",
    "import numpy as np\n",
    "import matplotlib.pyplot as plt\n",
    "from nltk.corpus import stopwords\n",
    "from nltk.stem import PorterStemmer\n",
    "from sklearn.feature_extraction.text import TfidfVectorizer\n",
    "from sklearn.model_selection import train_test_split\n",
    "from sklearn.pipeline import Pipeline\n",
    "from sklearn.metrics import classification_report, confusion_matrix, r2_score, plot_confusion_matrix\n",
    "from sklearn.model_selection import train_test_split\n",
    "from sklearn.feature_selection import SelectKBest, chi2\n",
    "from sklearn.ensemble import RandomForestClassifier\n",
    "import pickle"
   ]
  },
  {
   "cell_type": "code",
   "execution_count": 74,
   "metadata": {},
   "outputs": [
    {
     "data": {
      "text/html": [
       "<div>\n",
       "<style scoped>\n",
       "    .dataframe tbody tr th:only-of-type {\n",
       "        vertical-align: middle;\n",
       "    }\n",
       "\n",
       "    .dataframe tbody tr th {\n",
       "        vertical-align: top;\n",
       "    }\n",
       "\n",
       "    .dataframe thead th {\n",
       "        text-align: right;\n",
       "    }\n",
       "</style>\n",
       "<table border=\"1\" class=\"dataframe\">\n",
       "  <thead>\n",
       "    <tr style=\"text-align: right;\">\n",
       "      <th></th>\n",
       "      <th>msgContent</th>\n",
       "      <th>Type</th>\n",
       "    </tr>\n",
       "  </thead>\n",
       "  <tbody>\n",
       "    <tr>\n",
       "      <th>0</th>\n",
       "      <td>Rs.8.16 paid at AMAZON on 03-10-2021 using Deb...</td>\n",
       "      <td>Banking/Payments</td>\n",
       "    </tr>\n",
       "    <tr>\n",
       "      <th>1</th>\n",
       "      <td>Use verification code 703654 for Microsoft aut...</td>\n",
       "      <td>OTP</td>\n",
       "    </tr>\n",
       "    <tr>\n",
       "      <th>2</th>\n",
       "      <td>Dear Akshat Kumar, Congratulations! You have s...</td>\n",
       "      <td>Alerts</td>\n",
       "    </tr>\n",
       "    <tr>\n",
       "      <th>3</th>\n",
       "      <td>Your FD has been Renewed! We'll email the advi...</td>\n",
       "      <td>Alerts</td>\n",
       "    </tr>\n",
       "    <tr>\n",
       "      <th>4</th>\n",
       "      <td>Enjoying our website? Text NEARME to 77702 to ...</td>\n",
       "      <td>Advertising</td>\n",
       "    </tr>\n",
       "  </tbody>\n",
       "</table>\n",
       "</div>"
      ],
      "text/plain": [
       "                                          msgContent              Type\n",
       "0  Rs.8.16 paid at AMAZON on 03-10-2021 using Deb...  Banking/Payments\n",
       "1  Use verification code 703654 for Microsoft aut...               OTP\n",
       "2  Dear Akshat Kumar, Congratulations! You have s...            Alerts\n",
       "3  Your FD has been Renewed! We'll email the advi...            Alerts\n",
       "4  Enjoying our website? Text NEARME to 77702 to ...       Advertising"
      ]
     },
     "execution_count": 74,
     "metadata": {},
     "output_type": "execute_result"
    }
   ],
   "source": [
    "data = pd.read_excel('clean.xlsx')\n",
    "data.head()"
   ]
  },
  {
   "cell_type": "code",
   "execution_count": 75,
   "metadata": {},
   "outputs": [
    {
     "data": {
      "text/plain": [
       "(269, 2)"
      ]
     },
     "execution_count": 75,
     "metadata": {},
     "output_type": "execute_result"
    }
   ],
   "source": [
    "data.shape"
   ]
  },
  {
   "cell_type": "code",
   "execution_count": 76,
   "metadata": {},
   "outputs": [
    {
     "data": {
      "text/html": [
       "<div>\n",
       "<style scoped>\n",
       "    .dataframe tbody tr th:only-of-type {\n",
       "        vertical-align: middle;\n",
       "    }\n",
       "\n",
       "    .dataframe tbody tr th {\n",
       "        vertical-align: top;\n",
       "    }\n",
       "\n",
       "    .dataframe thead th {\n",
       "        text-align: right;\n",
       "    }\n",
       "</style>\n",
       "<table border=\"1\" class=\"dataframe\">\n",
       "  <thead>\n",
       "    <tr style=\"text-align: right;\">\n",
       "      <th></th>\n",
       "      <th>msgContent</th>\n",
       "      <th>Type</th>\n",
       "    </tr>\n",
       "  </thead>\n",
       "  <tbody>\n",
       "    <tr>\n",
       "      <th>0</th>\n",
       "      <td>Rs.8.16 paid at AMAZON on 03-10-2021 using Deb...</td>\n",
       "      <td>Banking/Payments</td>\n",
       "    </tr>\n",
       "    <tr>\n",
       "      <th>1</th>\n",
       "      <td>Use verification code 703654 for Microsoft aut...</td>\n",
       "      <td>OTP</td>\n",
       "    </tr>\n",
       "    <tr>\n",
       "      <th>2</th>\n",
       "      <td>Dear Akshat Kumar, Congratulations! You have s...</td>\n",
       "      <td>Alerts</td>\n",
       "    </tr>\n",
       "    <tr>\n",
       "      <th>3</th>\n",
       "      <td>Your FD has been Renewed! We'll email the advi...</td>\n",
       "      <td>Alerts</td>\n",
       "    </tr>\n",
       "    <tr>\n",
       "      <th>4</th>\n",
       "      <td>Enjoying our website? Text NEARME to 77702 to ...</td>\n",
       "      <td>Advertising</td>\n",
       "    </tr>\n",
       "  </tbody>\n",
       "</table>\n",
       "</div>"
      ],
      "text/plain": [
       "                                          msgContent              Type\n",
       "0  Rs.8.16 paid at AMAZON on 03-10-2021 using Deb...  Banking/Payments\n",
       "1  Use verification code 703654 for Microsoft aut...               OTP\n",
       "2  Dear Akshat Kumar, Congratulations! You have s...            Alerts\n",
       "3  Your FD has been Renewed! We'll email the advi...            Alerts\n",
       "4  Enjoying our website? Text NEARME to 77702 to ...       Advertising"
      ]
     },
     "execution_count": 76,
     "metadata": {},
     "output_type": "execute_result"
    }
   ],
   "source": [
    "data.head()"
   ]
  },
  {
   "cell_type": "code",
   "execution_count": 77,
   "metadata": {},
   "outputs": [
    {
     "data": {
      "image/png": "[encoded data removed]",
      "text/plain": [
       "<Figure size 432x288 with 1 Axes>"
      ]
     },
     "metadata": {
      "needs_background": "light"
     },
     "output_type": "display_data"
    }
   ],
   "source": [
    "data.groupby('Type').count().plot.bar(ylim=0)\n",
    "plt.show()"
   ]
  },
  {
   "cell_type": "code",
   "execution_count": 78,
   "metadata": {},
   "outputs": [],
   "source": [
    "stemmer = PorterStemmer()\n",
    "words = stopwords.words(\"english\")\n",
    "\n",
    "data['cleaned'] = data['msgContent'].apply(\n",
    "    lambda x: \" \".join([stemmer.stem(i) for i in re.sub(\"[^a-zA-Z]\", \" \", x).split() \n",
    "    if i not in words]).lower()\n",
    "    )"
   ]
  },
  {
   "cell_type": "code",
   "execution_count": 79,
   "metadata": {},
   "outputs": [
    {
     "data": {
      "text/html": [
       "<div>\n",
       "<style scoped>\n",
       "    .dataframe tbody tr th:only-of-type {\n",
       "        vertical-align: middle;\n",
       "    }\n",
       "\n",
       "    .dataframe tbody tr th {\n",
       "        vertical-align: top;\n",
       "    }\n",
       "\n",
       "    .dataframe thead th {\n",
       "        text-align: right;\n",
       "    }\n",
       "</style>\n",
       "<table border=\"1\" class=\"dataframe\">\n",
       "  <thead>\n",
       "    <tr style=\"text-align: right;\">\n",
       "      <th></th>\n",
       "      <th>msgContent</th>\n",
       "      <th>Type</th>\n",
       "      <th>cleaned</th>\n",
       "    </tr>\n",
       "  </thead>\n",
       "  <tbody>\n",
       "    <tr>\n",
       "      <th>0</th>\n",
       "      <td>Rs.8.16 paid at AMAZON on 03-10-2021 using Deb...</td>\n",
       "      <td>Banking/Payments</td>\n",
       "      <td>rs paid amazon use debit card avl bal rs ref n...</td>\n",
       "    </tr>\n",
       "    <tr>\n",
       "      <th>1</th>\n",
       "      <td>Use verification code 703654 for Microsoft aut...</td>\n",
       "      <td>OTP</td>\n",
       "      <td>use verif code microsoft authent</td>\n",
       "    </tr>\n",
       "    <tr>\n",
       "      <th>2</th>\n",
       "      <td>Dear Akshat Kumar, Congratulations! You have s...</td>\n",
       "      <td>Alerts</td>\n",
       "      <td>dear akshat kumar congratul you success comple...</td>\n",
       "    </tr>\n",
       "    <tr>\n",
       "      <th>3</th>\n",
       "      <td>Your FD has been Renewed! We'll email the advi...</td>\n",
       "      <td>Alerts</td>\n",
       "      <td>your fd renew we email advic avail td waiver s...</td>\n",
       "    </tr>\n",
       "    <tr>\n",
       "      <th>4</th>\n",
       "      <td>Enjoying our website? Text NEARME to 77702 to ...</td>\n",
       "      <td>Advertising</td>\n",
       "      <td>enjoy websit text nearm set locat specif alert</td>\n",
       "    </tr>\n",
       "    <tr>\n",
       "      <th>5</th>\n",
       "      <td>Thanks for your interest in Raleigh, NC homes....</td>\n",
       "      <td>Advertising</td>\n",
       "      <td>thank interest raleigh nc home we get back two...</td>\n",
       "    </tr>\n",
       "    <tr>\n",
       "      <th>6</th>\n",
       "      <td>Good News!! INR 50,000.00 in account xxxx9467 ...</td>\n",
       "      <td>Fraudulent</td>\n",
       "      <td>good new inr account xxxx within min check now...</td>\n",
       "    </tr>\n",
       "    <tr>\n",
       "      <th>7</th>\n",
       "      <td>Lenskart Bestseller: The Candyland Collection....</td>\n",
       "      <td>Advertising</td>\n",
       "      <td>lenskart bestsel the candyland collect dynam b...</td>\n",
       "    </tr>\n",
       "    <tr>\n",
       "      <th>8</th>\n",
       "      <td>Your OTP to register/access CoWIN is 344465. I...</td>\n",
       "      <td>OTP</td>\n",
       "      <td>your otp regist access cowin it valid minut cowin</td>\n",
       "    </tr>\n",
       "    <tr>\n",
       "      <th>9</th>\n",
       "      <td>Dear Customer, Flipkart Internet Pvt Ltd has r...</td>\n",
       "      <td>Banking/Payments</td>\n",
       "      <td>dear custom flipkart internet pvt ltd request ...</td>\n",
       "    </tr>\n",
       "  </tbody>\n",
       "</table>\n",
       "</div>"
      ],
      "text/plain": [
       "                                          msgContent              Type  \\\n",
       "0  Rs.8.16 paid at AMAZON on 03-10-2021 using Deb...  Banking/Payments   \n",
       "1  Use verification code 703654 for Microsoft aut...               OTP   \n",
       "2  Dear Akshat Kumar, Congratulations! You have s...            Alerts   \n",
       "3  Your FD has been Renewed! We'll email the advi...            Alerts   \n",
       "4  Enjoying our website? Text NEARME to 77702 to ...       Advertising   \n",
       "5  Thanks for your interest in Raleigh, NC homes....       Advertising   \n",
       "6  Good News!! INR 50,000.00 in account xxxx9467 ...        Fraudulent   \n",
       "7  Lenskart Bestseller: The Candyland Collection....       Advertising   \n",
       "8  Your OTP to register/access CoWIN is 344465. I...               OTP   \n",
       "9  Dear Customer, Flipkart Internet Pvt Ltd has r...  Banking/Payments   \n",
       "\n",
       "                                             cleaned  \n",
       "0  rs paid amazon use debit card avl bal rs ref n...  \n",
       "1                   use verif code microsoft authent  \n",
       "2  dear akshat kumar congratul you success comple...  \n",
       "3  your fd renew we email advic avail td waiver s...  \n",
       "4     enjoy websit text nearm set locat specif alert  \n",
       "5  thank interest raleigh nc home we get back two...  \n",
       "6  good new inr account xxxx within min check now...  \n",
       "7  lenskart bestsel the candyland collect dynam b...  \n",
       "8  your otp regist access cowin it valid minut cowin  \n",
       "9  dear custom flipkart internet pvt ltd request ...  "
      ]
     },
     "execution_count": 79,
     "metadata": {},
     "output_type": "execute_result"
    }
   ],
   "source": [
    "data.iloc[:][:10]"
   ]
  },
  {
   "cell_type": "code",
   "execution_count": 80,
   "metadata": {},
   "outputs": [
    {
     "data": {
      "text/plain": [
       "(269, 492)"
      ]
     },
     "execution_count": 80,
     "metadata": {},
     "output_type": "execute_result"
    }
   ],
   "source": [
    "vectorizer = TfidfVectorizer(min_df= 3, stop_words=\"english\", sublinear_tf=True, norm='l2', ngram_range=(1, 2))\n",
    "final_features = vectorizer.fit_transform(data['cleaned']).toarray()\n",
    "final_features.shape"
   ]
  },
  {
   "cell_type": "code",
   "execution_count": 81,
   "metadata": {},
   "outputs": [],
   "source": [
    "X = data['cleaned']\n",
    "Y = data['Type']\n",
    "\n",
    "x_train, x_test, y_train, y_test = train_test_split(X,Y,test_size=0.15,random_state=42)\n",
    "\n",
    "pipeline = Pipeline([('vect', vectorizer),\n",
    "                     ('chi',  SelectKBest(chi2, k=230)),\n",
    "                     ('clf', RandomForestClassifier(n_estimators=300))])\n",
    "# fitting our model and save it in a pickle for later use\n",
    "model = pipeline.fit(x_train, y_train)\n",
    "with open('RandomForest.pickle', 'wb') as f:\n",
    "    pickle.dump(model, f)"
   ]
  },
  {
   "cell_type": "code",
   "execution_count": 82,
   "metadata": {},
   "outputs": [
    {
     "name": "stdout",
     "output_type": "stream",
     "text": [
      "                  precision    recall  f1-score   support\n",
      "\n",
      "     Advertising       0.88      0.88      0.88         8\n",
      "          Alerts       0.50      0.60      0.55         5\n",
      "Banking/Payments       1.00      1.00      1.00        13\n",
      "      Fraudulent       0.00      0.00      0.00         1\n",
      "       Malicious       0.00      0.00      0.00         1\n",
      "             OTP       0.83      0.83      0.83         6\n",
      "            Spam       0.62      0.71      0.67         7\n",
      "\n",
      "        accuracy                           0.80        41\n",
      "       macro avg       0.55      0.57      0.56        41\n",
      "    weighted avg       0.78      0.80      0.79        41\n",
      "\n",
      "[[ 7  1  0  0  0  0  0]\n",
      " [ 0  3  0  0  0  1  1]\n",
      " [ 0  0 13  0  0  0  0]\n",
      " [ 0  1  0  0  0  0  0]\n",
      " [ 0  0  0  0  0  0  1]\n",
      " [ 0  0  0  0  0  5  1]\n",
      " [ 1  1  0  0  0  0  5]]\n"
     ]
    },
    {
     "name": "stderr",
     "output_type": "stream",
     "text": [
      "/Users/namanmayer/AI-ML/ml/lib/python3.8/site-packages/sklearn/metrics/_classification.py:1308: UndefinedMetricWarning: Precision and F-score are ill-defined and being set to 0.0 in labels with no predicted samples. Use `zero_division` parameter to control this behavior.\n",
      "  _warn_prf(average, modifier, msg_start, len(result))\n",
      "/Users/namanmayer/AI-ML/ml/lib/python3.8/site-packages/sklearn/metrics/_classification.py:1308: UndefinedMetricWarning: Precision and F-score are ill-defined and being set to 0.0 in labels with no predicted samples. Use `zero_division` parameter to control this behavior.\n",
      "  _warn_prf(average, modifier, msg_start, len(result))\n",
      "/Users/namanmayer/AI-ML/ml/lib/python3.8/site-packages/sklearn/metrics/_classification.py:1308: UndefinedMetricWarning: Precision and F-score are ill-defined and being set to 0.0 in labels with no predicted samples. Use `zero_division` parameter to control this behavior.\n",
      "  _warn_prf(average, modifier, msg_start, len(result))\n"
     ]
    }
   ],
   "source": [
    "ytest = np.array(y_test)\n",
    "print(classification_report(ytest, model.predict(x_test)))\n",
    "print(confusion_matrix(ytest, model.predict(x_test)))"
   ]
  },
  {
   "cell_type": "code",
   "execution_count": 83,
   "metadata": {},
   "outputs": [
    {
     "name": "stdout",
     "output_type": "stream",
     "text": [
      "['Banking/Payments']\n"
     ]
    }
   ],
   "source": [
    "print(model.predict(np.array(['''Rs.2193.40 spent on POS/Ecom using ICICI Debit card on 26/10/21 18:05 at PAYTM  NOIDA   from Ac:XXXXXXXXX. Bal:XXXXX CR -ICICI Bank\n",
    "'''])))"
   ]
  },
  {
   "cell_type": "code",
   "execution_count": 84,
   "metadata": {},
   "outputs": [
    {
     "name": "stderr",
     "output_type": "stream",
     "text": [
      "/Users/namanmayer/AI-ML/ml/lib/python3.8/site-packages/sklearn/utils/deprecation.py:87: FutureWarning: Function plot_confusion_matrix is deprecated; Function `plot_confusion_matrix` is deprecated in 1.0 and will be removed in 1.2. Use one of the class methods: ConfusionMatrixDisplay.from_predictions or ConfusionMatrixDisplay.from_estimator.\n",
      "  warnings.warn(msg, category=FutureWarning)\n"
     ]
    },
    {
     "data": {
      "image/png": "[encoded data removed]",
      "text/plain": [
       "<Figure size 1080x1080 with 2 Axes>"
      ]
     },
     "metadata": {
      "needs_background": "light"
     },
     "output_type": "display_data"
    }
   ],
   "source": [
    "import matplotlib.pyplot as plt\n",
    "from sklearn.metrics import plot_confusion_matrix \n",
    "fig, ax = plt.subplots(figsize=(15, 15))\n",
    "plot_confusion_matrix(model,x_test,y_test, ax=ax)\n",
    "plt.show()"
   ]
  },
  {
   "cell_type": "code",
   "execution_count": 85,
   "metadata": {},
   "outputs": [],
   "source": [
    "pickle.dump(model, open('model.pkl', 'wb'))"
   ]
  },
  {
   "cell_type": "code",
   "execution_count": 86,
   "metadata": {},
   "outputs": [],
   "source": [
    "newModel = pickle.load(open('model.pkl','rb'))"
   ]
  },
  {
   "cell_type": "code",
   "execution_count": 88,
   "metadata": {},
   "outputs": [
    {
     "name": "stdout",
     "output_type": "stream",
     "text": [
      "['Banking/Payments']\n"
     ]
    }
   ],
   "source": [
    "print(newModel.predict(np.array(['Rs.2193.40 spent on POS/Ecom using ICICI Debit card on 26/10/21 18:05 at PAYTM  NOIDA   from Ac:XXXXXXXXX. Bal:XXXXX CR -ICICI Bank'])))"
   ]
  },
  {
   "cell_type": "code",
   "execution_count": null,
   "metadata": {},
   "outputs": [],
   "source": []
  }
 ],
 "metadata": {
  "interpreter": {
   "hash": "9fb8a29f1ad7edb63485d249627570e41779f4535626d725fbf3a39803a52669"
  },
  "kernelspec": {
   "display_name": "Python 3.8.9 64-bit ('ml': venv)",
   "language": "python",
   "name": "python3"
  },
  "language_info": {
   "codemirror_mode": {
    "name": "ipython",
    "version": 3
   },
   "file_extension": ".py",
   "mimetype": "text/x-python",
   "name": "python",
   "nbconvert_exporter": "python",
   "pygments_lexer": "ipython3",
   "version": "3.8.9"
  },
  "orig_nbformat": 4
 },
 "nbformat": 4,
 "nbformat_minor": 2
}
